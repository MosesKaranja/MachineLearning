{
  "nbformat": 4,
  "nbformat_minor": 0,
  "metadata": {
    "colab": {
      "name": "SVM Algorithm for cancer prediction.ipynb",
      "provenance": [],
      "authorship_tag": "ABX9TyNDgf+5Uuv4ErxSxjDq7YUq",
      "include_colab_link": true
    },
    "kernelspec": {
      "name": "python3",
      "display_name": "Python 3"
    }
  },
  "cells": [
    {
      "cell_type": "markdown",
      "metadata": {
        "id": "view-in-github",
        "colab_type": "text"
      },
      "source": [
        "<a href=\"https://colab.research.google.com/github/MosesKaranja/MachineLearning/blob/master/SVM_Algorithm_for_cancer_prediction.ipynb\" target=\"_parent\"><img src=\"https://colab.research.google.com/assets/colab-badge.svg\" alt=\"Open In Colab\"/></a>"
      ]
    },
    {
      "cell_type": "code",
      "metadata": {
        "id": "vhLZTAwXaMBf",
        "colab_type": "code",
        "colab": {}
      },
      "source": [
        "from sklearn import datasets\n",
        "from sklearn.model_selection import train_test_split\n",
        "from sklearn import svm\n",
        "from sklearn import metrics\n",
        "import pandas as pd"
      ],
      "execution_count": 44,
      "outputs": []
    },
    {
      "cell_type": "code",
      "metadata": {
        "id": "vY0yewODaRPZ",
        "colab_type": "code",
        "colab": {
          "base_uri": "https://localhost:8080/",
          "height": 34
        },
        "outputId": "9bad2d12-daf7-475a-b678-6fa2eadac757"
      },
      "source": [
        "cancer = datasets.load_breast_cancer() \n",
        "my_list =[]\n",
        "#cancer\n",
        "#print(\"Features: \", cancer.feature_names)\n",
        "#print(\"Labels:\",cancer.target_names)\n",
        "#cancer.data.shape\n",
        "#print(cancer.data[0:5])\n",
        "#cancer.target\n",
        "#malignant = 0 and benign = 1\n",
        "#cancer.feature_names.size\n",
        "#cancer.data\n",
        "cancer.target_names"
      ],
      "execution_count": 45,
      "outputs": [
        {
          "output_type": "execute_result",
          "data": {
            "text/plain": [
              "array(['malignant', 'benign'], dtype='<U9')"
            ]
          },
          "metadata": {
            "tags": []
          },
          "execution_count": 45
        }
      ]
    },
    {
      "cell_type": "code",
      "metadata": {
        "id": "VgabDelafvmJ",
        "colab_type": "code",
        "colab": {}
      },
      "source": [
        "#X_train,X_train,y_train,y_test = train_test_split(cancer.data,cancer.target,test_size=0.3,random_state=109)\n",
        "\n",
        "X_train, X_test, y_train, y_test = train_test_split(cancer.data, cancer.target, test_size=0.3,random_state=109)\n",
        "#Splitting Data - to understand model performance dividing the dataset into training set and test set is a good strategy\n",
        "#We use train_test_split()\n",
        "#Pass 3 parameters - features,target and test_set size. Use random_state to select records randomly. "
      ],
      "execution_count": 46,
      "outputs": []
    },
    {
      "cell_type": "code",
      "metadata": {
        "id": "fktQIz1fkVtD",
        "colab_type": "code",
        "colab": {
          "base_uri": "https://localhost:8080/",
          "height": 34
        },
        "outputId": "0fa75460-b0d6-4540-8f51-c391b77b089c"
      },
      "source": [
        "X_train.data.shape\n",
        "y_train.data.shape"
      ],
      "execution_count": 47,
      "outputs": [
        {
          "output_type": "execute_result",
          "data": {
            "text/plain": [
              "(398,)"
            ]
          },
          "metadata": {
            "tags": []
          },
          "execution_count": 47
        }
      ]
    },
    {
      "cell_type": "code",
      "metadata": {
        "id": "3Vjg5oWmhf8J",
        "colab_type": "code",
        "colab": {
          "base_uri": "https://localhost:8080/",
          "height": 34
        },
        "outputId": "6e9d60d9-c1e3-4cc1-95e0-87f529296df5"
      },
      "source": [
        "#Create an SVM classifier\n",
        "clf = svm.SVC(kernel='linear')\n",
        "\n",
        "#Train the modle using training sets\n",
        "#Fit your model on train set using fit()\n",
        "clf.fit(X_train,y_train)\n",
        "\n",
        "#Predict the response from the datasets\n",
        "y_pred = clf.predict(X_test)\n",
        "\n",
        "#We can output the accuracy of the model\n",
        "print(\"Accuracy: \", metrics.accuracy_score(y_test,y_pred))\n",
        "\n",
        "#Output pr#Output Recall of the model\n",
        "print(\"Recall: \", metrics.recall_score(y_test,y_pred))\n"
      ],
      "execution_count": 51,
      "outputs": [
        {
          "output_type": "stream",
          "text": [
            "Recall:  0.9629629629629629\n"
          ],
          "name": "stdout"
        }
      ]
    }
  ]
}